{
 "cells": [
  {
   "cell_type": "code",
   "execution_count": 1,
   "metadata": {},
   "outputs": [],
   "source": [
    "import pandas as pd\n",
    "import matplotlib.pyplot as plt\n",
    "from caiman.source_extraction.cnmf.cnmf import load_CNMF\n",
    "import numpy as np\n",
    "from pathlib import Path\n",
    "import pynapple as nap"
   ]
  },
  {
   "cell_type": "code",
   "execution_count": 30,
   "metadata": {},
   "outputs": [],
   "source": [
    "session_dir = Path(\"/home/toor/Desktop/testSessions/20240628\")\n",
    "caiman_results_path = session_dir / \"caiman\" / \"caiman_results.hdf5\"\n",
    "timestamp_path = session_dir / \"timestamps2024-06-28T14_00_26.csv\""
   ]
  },
  {
   "cell_type": "code",
   "execution_count": 31,
   "metadata": {},
   "outputs": [
    {
     "name": "stdout",
     "output_type": "stream",
     "text": [
      "Total number of identified component traces by timepoints: (1292, 22500)\n",
      "Indices of identified \"good\" components: (488,)\n"
     ]
    }
   ],
   "source": [
    "cnmf_model = load_CNMF(str(caiman_results_path))\n",
    "print(f\"Total number of identified component traces by timepoints:\", cnmf_model.estimates.F_dff.shape)\n",
    "print(\"Indices of identified \\\"good\\\" components:\", cnmf_model.estimates.idx_components.shape)"
   ]
  },
  {
   "cell_type": "code",
   "execution_count": 32,
   "metadata": {},
   "outputs": [
    {
     "name": "stdout",
     "output_type": "stream",
     "text": [
      "                          timestamps\n",
      "0  2024-06-28T14:00:27.2580736-07:00\n",
      "1  2024-06-28T14:00:27.3073024-07:00\n",
      "2  2024-06-28T14:00:27.3315840-07:00\n",
      "3  2024-06-28T14:00:27.3640960-07:00\n",
      "4  2024-06-28T14:00:27.4321664-07:00\n",
      "0        1.719608e+09\n",
      "1        1.719608e+09\n",
      "2        1.719608e+09\n",
      "3        1.719608e+09\n",
      "4        1.719608e+09\n",
      "             ...     \n",
      "38112    1.719610e+09\n",
      "38113    1.719610e+09\n",
      "38114    1.719610e+09\n",
      "38115    1.719610e+09\n",
      "38116    1.719610e+09\n",
      "Name: timestamps, Length: 38117, dtype: float64\n"
     ]
    }
   ],
   "source": [
    "raw_timestamps = pd.read_csv(timestamp_path, header=None, names=[\"timestamps\"])\n",
    "print(raw_timestamps.head())\n",
    "timestamps = pd.to_datetime(raw_timestamps.timestamps).map(lambda x: x.timestamp())\n",
    "print(timestamps)"
   ]
  },
  {
   "cell_type": "code",
   "execution_count": 33,
   "metadata": {},
   "outputs": [
    {
     "data": {
      "text/plain": [
       "(488, 22500)"
      ]
     },
     "execution_count": 33,
     "metadata": {},
     "output_type": "execute_result"
    }
   ],
   "source": [
    "F_dff_good = cnmf_model.estimates.F_dff[cnmf_model.estimates.idx_components]\n",
    "F_dff_good.shape"
   ]
  },
  {
   "cell_type": "code",
   "execution_count": 34,
   "metadata": {},
   "outputs": [
    {
     "data": {
      "text/plain": [
       "(488, 22500)"
      ]
     },
     "execution_count": 34,
     "metadata": {},
     "output_type": "execute_result"
    }
   ],
   "source": [
    "F_dff_good = cnmf_model.estimates.F_dff[cnmf_model.estimates.idx_components]\n",
    "F_dff_good.shape"
   ]
  },
  {
   "cell_type": "code",
   "execution_count": 35,
   "metadata": {},
   "outputs": [],
   "source": [
    "# Save the array\n",
    "file_path = session_dir / \"F_dff_good.npy\"\n",
    "np.save(file_path, F_dff_good)\n"
   ]
  }
 ],
 "metadata": {
  "kernelspec": {
   "display_name": "stability-preprocessing",
   "language": "python",
   "name": "python3"
  },
  "language_info": {
   "codemirror_mode": {
    "name": "ipython",
    "version": 3
   },
   "file_extension": ".py",
   "mimetype": "text/x-python",
   "name": "python",
   "nbconvert_exporter": "python",
   "pygments_lexer": "ipython3",
   "version": "3.11.8"
  }
 },
 "nbformat": 4,
 "nbformat_minor": 2
}
