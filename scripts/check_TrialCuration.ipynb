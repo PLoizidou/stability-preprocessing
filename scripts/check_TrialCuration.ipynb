{
 "cells": [
  {
   "cell_type": "code",
   "execution_count": 41,
   "metadata": {},
   "outputs": [],
   "source": [
    "import os\n",
    "from pathlib import Path\n",
    "import re"
   ]
  },
  {
   "cell_type": "code",
   "execution_count": 42,
   "metadata": {},
   "outputs": [],
   "source": [
    "def generate_directory_tree_list(base_dir):\n",
    "    file_list = []\n",
    "    base_path = Path(base_dir)\n",
    "\n",
    "    for _, _, files in os.walk(base_path):\n",
    "        for file in files:\n",
    "            file_list.append(file)\n",
    "            \n",
    "    return file_list"
   ]
  },
  {
   "cell_type": "code",
   "execution_count": null,
   "metadata": {},
   "outputs": [],
   "source": [
    "source_dir = \"/media/toor/SeagatePortableDrive/AGING_MICE/Mouse1637\"\n",
    "target_dir = \"/media/toor/SeagatePortableDrive/AgingMiceNWB/sub-Mouse1637\"\n",
    "\n",
    "source_files = generate_directory_tree_list(source_dir)\n",
    "target_files = generate_directory_tree_list(target_dir)\n",
    "\n",
    "# Convert to sets for comparison\n",
    "source_set = set(source_files)\n",
    "target_set = set(target_files)\n",
    "\n",
    "# Find missing and extra files\n",
    "missing_in_target = source_set - target_set\n",
    "extra_in_target = target_set - source_set\n",
    "\n",
    "missing_in_target"
   ]
  }
 ],
 "metadata": {
  "kernelspec": {
   "display_name": "stability-preprocessing",
   "language": "python",
   "name": "python3"
  },
  "language_info": {
   "codemirror_mode": {
    "name": "ipython",
    "version": 3
   },
   "file_extension": ".py",
   "mimetype": "text/x-python",
   "name": "python",
   "nbconvert_exporter": "python",
   "pygments_lexer": "ipython3",
   "version": "3.11.8"
  }
 },
 "nbformat": 4,
 "nbformat_minor": 2
}
