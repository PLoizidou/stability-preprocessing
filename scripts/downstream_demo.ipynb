{
 "cells": [
  {
   "cell_type": "markdown",
   "metadata": {},
   "source": [
    "# Downstream Analysis Demo\n",
    "Examples of how to load the data produced by this pipeline for downstream analysis"
   ]
  },
  {
   "cell_type": "markdown",
   "metadata": {},
   "source": [
    "## Setup"
   ]
  },
  {
   "cell_type": "code",
   "execution_count": null,
   "metadata": {},
   "outputs": [],
   "source": [
    "import pandas as pd\n",
    "import matplotlib.pyplot as plt\n",
    "from caiman.source_extraction.cnmf.cnmf import load_CNMF\n",
    "import numpy as np\n",
    "from pathlib import Path\n",
    "import pynapple as nap"
   ]
  },
  {
   "cell_type": "code",
   "execution_count": null,
   "metadata": {},
   "outputs": [],
   "source": [
    "session_dir = Path(\"/media/toor/Elements/aging_mice/sub-Mouse1636/ses-20240530T130237\")\n",
    "dlc_results_hdf5_path = session_dir / \"dlc\" / \"behaviorLinear2024-05-30T13_02_37DLC_resnet50_linearMay29shuffle1_100000_filtered.h5\"\n",
    "caiman_results_path = session_dir / \"caiman\" / \"caiman_results.hdf5\"\n",
    "timestamp_path = session_dir / \"timestamps2024-05-30T13_02_37.csv\"\n"
   ]
  },
  {
   "cell_type": "markdown",
   "metadata": {},
   "source": [
    "## Load Pose Information"
   ]
  },
  {
   "cell_type": "markdown",
   "metadata": {},
   "source": [
    "First, load the filtered dlc outputs from their .hdf5 file:"
   ]
  },
  {
   "cell_type": "code",
   "execution_count": null,
   "metadata": {},
   "outputs": [],
   "source": [
    "\n",
    "\n",
    "position = pd.read_hdf(dlc_results_hdf5_path, key='df_with_missing') # key='df_with_missing' is the default key\n",
    "position.head()\n"
   ]
  },
  {
   "cell_type": "markdown",
   "metadata": {},
   "source": [
    "Next, load the Caiman outputs using Caiman's `load_CNMF` function:"
   ]
  },
  {
   "cell_type": "code",
   "execution_count": null,
   "metadata": {},
   "outputs": [],
   "source": [
    "cnmf_model = load_CNMF(str(caiman_results_path))\n",
    "print(f\"Total number of identified component traces by timepoints:\", cnmf_model.estimates.F_dff.shape)\n",
    "print(\"Indices of identified \\\"good\\\" components:\", cnmf_model.estimates.idx_components.shape)"
   ]
  },
  {
   "cell_type": "markdown",
   "metadata": {},
   "source": [
    "Finally, load the experiment timestamps and convert them to floats:"
   ]
  },
  {
   "cell_type": "code",
   "execution_count": null,
   "metadata": {},
   "outputs": [],
   "source": [
    "raw_timestamps = pd.read_csv(timestamp_path, header=None, names=[\"timestamps\"])\n",
    "print(raw_timestamps.head())\n",
    "timestamps = pd.to_datetime(raw_timestamps.timestamps).map(lambda x: x.timestamp())\n",
    "print(timestamps)\n"
   ]
  },
  {
   "cell_type": "markdown",
   "metadata": {},
   "source": [
    "## Analysis demo"
   ]
  },
  {
   "cell_type": "markdown",
   "metadata": {},
   "source": [
    "Subset the `F_dff` values using the \\\"good\\\" indices. After that, we'll have an array of shape (good components x timeponts)."
   ]
  },
  {
   "cell_type": "code",
   "execution_count": null,
   "metadata": {},
   "outputs": [],
   "source": [
    "F_dff_good = cnmf_model.estimates.F_dff[cnmf_model.estimates.idx_components]\n",
    "F_dff_good.shape"
   ]
  },
  {
   "cell_type": "markdown",
   "metadata": {},
   "source": [
    "Specialized datastructures can make working with timeseries data a lot easier. Here's an example of how to work with Pynapple, a neuroscience oriented timeseries analysis package. We'll start by loading our data into Pynapple TsdFrame structures."
   ]
  },
  {
   "cell_type": "code",
   "execution_count": null,
   "metadata": {},
   "outputs": [],
   "source": [
    "transients = nap.TsdFrame(timestamps.values, F_dff_good.T)\n",
    "transients"
   ]
  },
  {
   "cell_type": "markdown",
   "metadata": {},
   "source": [
    "And plot a sample fluorescence trace:"
   ]
  },
  {
   "cell_type": "code",
   "execution_count": null,
   "metadata": {},
   "outputs": [],
   "source": [
    "plt.figure(figsize=(6, 2))\n",
    "plt.plot(transients[0:2000,100], linewidth=3)\n",
    "plt.xlabel(\"Time (s)\")\n",
    "plt.ylabel(\"Fluorescence\")\n",
    "plt.show()"
   ]
  },
  {
   "cell_type": "markdown",
   "metadata": {},
   "source": [
    "There are also some utilities for computing tuning curves.To demonstrate that, we'll look at how well a single neuron is tuned to the mouse's position on the linear track. We'll use raw position of the miniscope (x, y) in pixels, but more sophisticated selections of features and timepoints should probably be used when you do this."
   ]
  },
  {
   "cell_type": "code",
   "execution_count": null,
   "metadata": {},
   "outputs": [],
   "source": [
    "# Multiindexing is funky and worth looking into if this line is weird\n",
    "miniscope_position = position[\"DLC_resnet50_linearMay29shuffle1_100000\", \"objectA\"]\n",
    "miniscope_position = miniscope_position.drop(columns=[\"likelihood\"])\n",
    "miniscope_position = nap.TsdFrame(timestamps.values, miniscope_position.values, columns=miniscope_position.columns)\n",
    "miniscope_position"
   ]
  },
  {
   "cell_type": "code",
   "execution_count": null,
   "metadata": {},
   "outputs": [],
   "source": [
    "tuning_curves = nap.compute_2d_tuning_curves_continuous(transients, miniscope_position, 50)\n"
   ]
  },
  {
   "cell_type": "code",
   "execution_count": null,
   "metadata": {},
   "outputs": [],
   "source": [
    "tuning = tuning_curves[0][100]\n",
    "x_labels, y_labels = tuning_curves[1]\n",
    "\n",
    "# Plotting the heatmap\n",
    "plt.figure(figsize=(8, 6))\n",
    "plt.imshow(tuning, cmap='viridis', aspect='auto')\n",
    "\n",
    "# Adding x and y labels\n",
    "plt.xticks(ticks=np.arange(len(x_labels)), labels=x_labels, rotation=90)\n",
    "plt.yticks(ticks=np.arange(len(y_labels)), labels=y_labels)\n",
    "\n",
    "# Adding a color bar\n",
    "plt.colorbar()\n",
    "\n",
    "# Adding labels and title\n",
    "plt.xlabel('X Axis (Pixels)')\n",
    "plt.ylabel('Y Axis (Pixels)')\n",
    "plt.title('Tuning of component 100 to the position of the miniscope')\n",
    "\n",
    "# Displaying the plot\n",
    "plt.show()"
   ]
  }
 ],
 "metadata": {
  "kernelspec": {
   "display_name": "stability-preprocessing",
   "language": "python",
   "name": "python3"
  },
  "language_info": {
   "codemirror_mode": {
    "name": "ipython",
    "version": 3
   },
   "file_extension": ".py",
   "mimetype": "text/x-python",
   "name": "python",
   "nbconvert_exporter": "python",
   "pygments_lexer": "ipython3",
   "version": "3.11.8"
  }
 },
 "nbformat": 4,
 "nbformat_minor": 2
}
