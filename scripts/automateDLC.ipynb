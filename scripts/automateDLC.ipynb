{
 "cells": [
  {
   "cell_type": "code",
   "execution_count": 1,
   "metadata": {},
   "outputs": [],
   "source": [
    "import subprocess\n",
    "import os\n",
    "import pandas as pd"
   ]
  },
  {
   "cell_type": "code",
   "execution_count": 2,
   "metadata": {},
   "outputs": [],
   "source": [
    "#choosing only linear or TMaze files to process\n",
    "df = pd.read_csv('/home/toor/Desktop/2024Rotation_LoisLab_Ruoxi/05_Behavior/02_FileSort/Mouse1637_BehaviorFileAnalysis_Final.csv')\n",
    "linear_files = df[df['group_name'] == 'LinearTrack']['original_file_name'].tolist()\n",
    "linear_files = [f\"{file}.avi\" for file in linear_files]"
   ]
  },
  {
   "cell_type": "code",
   "execution_count": 3,
   "metadata": {},
   "outputs": [],
   "source": [
    "def find_behavior_avi_files(directory):\n",
    "    behavior_avi_files = []\n",
    "    for root, _, files in os.walk(directory):\n",
    "        for file in files:            \n",
    "            if file in linear_files:\n",
    "                behavior_avi_files.append(os.path.join(root, file))\n",
    "                print(file)\n",
    "    return behavior_avi_files\n",
    "\n",
    "def run_commands(commands):\n",
    "    for command in commands:\n",
    "        try:\n",
    "            # Run the command using bash\n",
    "            result = subprocess.run(command, shell=True, executable='/bin/bash', check=True, stdout=subprocess.PIPE, stderr=subprocess.PIPE)\n",
    "            # Print the output of the command\n",
    "            print(f\"Output of '{command}':\\n{result.stdout.decode()}\")\n",
    "        except subprocess.CalledProcessError as e:\n",
    "            # Print the error if the command fails\n",
    "            print(f\"Error running '{command}':\\n{e.stderr.decode()}\")\n",
    "            # Optionally, break the loop if a command fails\n",
    "            break\n"
   ]
  },
  {
   "cell_type": "code",
   "execution_count": 4,
   "metadata": {},
   "outputs": [
    {
     "name": "stdout",
     "output_type": "stream",
     "text": [
      "behavior2024-10-17T15_02_01.avi\n",
      "behavior2024-10-16T13_38_56.avi\n",
      "behavior2024-10-15T14_43_02.avi\n"
     ]
    }
   ],
   "source": [
    "directory_path = '/media/toor/T7Shield/AgingMiceNWB/sub-Mouse1637/ThirdRound' # path to your folder containing different session folders\n",
    "avi_files_all = find_behavior_avi_files(directory_path) #choose .avi files that correspond to linear track sessions (need to edit the function to match your naming convention for other types of tasks)"
   ]
  },
  {
   "cell_type": "code",
   "execution_count": 5,
   "metadata": {},
   "outputs": [
    {
     "data": {
      "text/plain": [
       "['source activate dlc && python ~/Desktop/stability-preprocessing/scripts/estimate_pose.py /home/toor/Desktop/linear-abrotman-2024-05-29/config.yaml /media/toor/T7Shield/AgingMiceNWB/sub-Mouse1637/ThirdRound/ses-20241017T150201/behavior2024-10-17T15_02_01.avi --gpu_id 0',\n",
       " 'source activate dlc && python ~/Desktop/stability-preprocessing/scripts/estimate_pose.py /home/toor/Desktop/linear-abrotman-2024-05-29/config.yaml /media/toor/T7Shield/AgingMiceNWB/sub-Mouse1637/ThirdRound/ses-20241016T133856/behavior2024-10-16T13_38_56.avi --gpu_id 0',\n",
       " 'source activate dlc && python ~/Desktop/stability-preprocessing/scripts/estimate_pose.py /home/toor/Desktop/linear-abrotman-2024-05-29/config.yaml /media/toor/T7Shield/AgingMiceNWB/sub-Mouse1637/ThirdRound/ses-20241015T144302/behavior2024-10-15T14_43_02.avi --gpu_id 0']"
      ]
     },
     "execution_count": 5,
     "metadata": {},
     "output_type": "execute_result"
    }
   ],
   "source": [
    "# Create the commands list \n",
    "commands_list = [\n",
    "    f\"source activate dlc && python ~/Desktop/stability-preprocessing/scripts/estimate_pose.py \"\n",
    "    f\"/home/toor/Desktop/linear-abrotman-2024-05-29/config.yaml {avi_file} --gpu_id 0\"\n",
    "    for avi_file in avi_files_all\n",
    "]\n",
    "\n",
    "commands_list"
   ]
  },
  {
   "cell_type": "code",
   "execution_count": null,
   "metadata": {},
   "outputs": [],
   "source": [
    "# Run the commands\n",
    "run_commands(commands_list)"
   ]
  },
  {
   "cell_type": "code",
   "execution_count": null,
   "metadata": {},
   "outputs": [],
   "source": []
  }
 ],
 "metadata": {
  "kernelspec": {
   "display_name": "base",
   "language": "python",
   "name": "python3"
  },
  "language_info": {
   "codemirror_mode": {
    "name": "ipython",
    "version": 3
   },
   "file_extension": ".py",
   "mimetype": "text/x-python",
   "name": "python",
   "nbconvert_exporter": "python",
   "pygments_lexer": "ipython3",
   "version": "3.12.2"
  }
 },
 "nbformat": 4,
 "nbformat_minor": 2
}
